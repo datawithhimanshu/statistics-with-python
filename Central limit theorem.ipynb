{
 "cells": [
  {
   "cell_type": "code",
   "execution_count": 2,
   "id": "e3221814",
   "metadata": {},
   "outputs": [],
   "source": [
    "import pandas as pd \n",
    "import numpy as np\n",
    "import matplotlib.pyplot as plt\n",
    "import seaborn as sns"
   ]
  },
  {
   "cell_type": "code",
   "execution_count": 4,
   "id": "2f86347c",
   "metadata": {},
   "outputs": [
    {
     "data": {
      "text/html": [
       "<div>\n",
       "<style scoped>\n",
       "    .dataframe tbody tr th:only-of-type {\n",
       "        vertical-align: middle;\n",
       "    }\n",
       "\n",
       "    .dataframe tbody tr th {\n",
       "        vertical-align: top;\n",
       "    }\n",
       "\n",
       "    .dataframe thead th {\n",
       "        text-align: right;\n",
       "    }\n",
       "</style>\n",
       "<table border=\"1\" class=\"dataframe\">\n",
       "  <thead>\n",
       "    <tr style=\"text-align: right;\">\n",
       "      <th></th>\n",
       "      <th>SK_ID_CURR</th>\n",
       "      <th>TARGET</th>\n",
       "      <th>NAME_CONTRACT_TYPE</th>\n",
       "      <th>CODE_GENDER</th>\n",
       "      <th>FLAG_OWN_CAR</th>\n",
       "      <th>FLAG_OWN_REALTY</th>\n",
       "      <th>CNT_CHILDREN</th>\n",
       "      <th>AMT_INCOME_TOTAL</th>\n",
       "      <th>AMT_CREDIT</th>\n",
       "      <th>AMT_ANNUITY</th>\n",
       "      <th>...</th>\n",
       "      <th>FLAG_DOCUMENT_18</th>\n",
       "      <th>FLAG_DOCUMENT_19</th>\n",
       "      <th>FLAG_DOCUMENT_20</th>\n",
       "      <th>FLAG_DOCUMENT_21</th>\n",
       "      <th>AMT_REQ_CREDIT_BUREAU_HOUR</th>\n",
       "      <th>AMT_REQ_CREDIT_BUREAU_DAY</th>\n",
       "      <th>AMT_REQ_CREDIT_BUREAU_WEEK</th>\n",
       "      <th>AMT_REQ_CREDIT_BUREAU_MON</th>\n",
       "      <th>AMT_REQ_CREDIT_BUREAU_QRT</th>\n",
       "      <th>AMT_REQ_CREDIT_BUREAU_YEAR</th>\n",
       "    </tr>\n",
       "  </thead>\n",
       "  <tbody>\n",
       "    <tr>\n",
       "      <th>0</th>\n",
       "      <td>384575</td>\n",
       "      <td>0</td>\n",
       "      <td>Cash loans</td>\n",
       "      <td>M</td>\n",
       "      <td>Y</td>\n",
       "      <td>N</td>\n",
       "      <td>2</td>\n",
       "      <td>207000.0</td>\n",
       "      <td>465457.5</td>\n",
       "      <td>52641.0</td>\n",
       "      <td>...</td>\n",
       "      <td>0</td>\n",
       "      <td>0</td>\n",
       "      <td>0</td>\n",
       "      <td>0</td>\n",
       "      <td>0.0</td>\n",
       "      <td>0.0</td>\n",
       "      <td>0.0</td>\n",
       "      <td>1.0</td>\n",
       "      <td>0.0</td>\n",
       "      <td>1.0</td>\n",
       "    </tr>\n",
       "    <tr>\n",
       "      <th>1</th>\n",
       "      <td>214010</td>\n",
       "      <td>0</td>\n",
       "      <td>Cash loans</td>\n",
       "      <td>F</td>\n",
       "      <td>Y</td>\n",
       "      <td>Y</td>\n",
       "      <td>0</td>\n",
       "      <td>247500.0</td>\n",
       "      <td>1281712.5</td>\n",
       "      <td>48946.5</td>\n",
       "      <td>...</td>\n",
       "      <td>0</td>\n",
       "      <td>0</td>\n",
       "      <td>0</td>\n",
       "      <td>0</td>\n",
       "      <td>0.0</td>\n",
       "      <td>0.0</td>\n",
       "      <td>0.0</td>\n",
       "      <td>1.0</td>\n",
       "      <td>0.0</td>\n",
       "      <td>3.0</td>\n",
       "    </tr>\n",
       "    <tr>\n",
       "      <th>2</th>\n",
       "      <td>142232</td>\n",
       "      <td>0</td>\n",
       "      <td>Cash loans</td>\n",
       "      <td>F</td>\n",
       "      <td>Y</td>\n",
       "      <td>N</td>\n",
       "      <td>0</td>\n",
       "      <td>202500.0</td>\n",
       "      <td>495000.0</td>\n",
       "      <td>39109.5</td>\n",
       "      <td>...</td>\n",
       "      <td>0</td>\n",
       "      <td>0</td>\n",
       "      <td>0</td>\n",
       "      <td>0</td>\n",
       "      <td>0.0</td>\n",
       "      <td>0.0</td>\n",
       "      <td>0.0</td>\n",
       "      <td>1.0</td>\n",
       "      <td>0.0</td>\n",
       "      <td>3.0</td>\n",
       "    </tr>\n",
       "    <tr>\n",
       "      <th>3</th>\n",
       "      <td>389171</td>\n",
       "      <td>0</td>\n",
       "      <td>Cash loans</td>\n",
       "      <td>F</td>\n",
       "      <td>N</td>\n",
       "      <td>Y</td>\n",
       "      <td>0</td>\n",
       "      <td>247500.0</td>\n",
       "      <td>254700.0</td>\n",
       "      <td>24939.0</td>\n",
       "      <td>...</td>\n",
       "      <td>0</td>\n",
       "      <td>0</td>\n",
       "      <td>0</td>\n",
       "      <td>0</td>\n",
       "      <td>0.0</td>\n",
       "      <td>0.0</td>\n",
       "      <td>0.0</td>\n",
       "      <td>0.0</td>\n",
       "      <td>0.0</td>\n",
       "      <td>0.0</td>\n",
       "    </tr>\n",
       "    <tr>\n",
       "      <th>4</th>\n",
       "      <td>283617</td>\n",
       "      <td>0</td>\n",
       "      <td>Cash loans</td>\n",
       "      <td>M</td>\n",
       "      <td>N</td>\n",
       "      <td>Y</td>\n",
       "      <td>0</td>\n",
       "      <td>112500.0</td>\n",
       "      <td>308133.0</td>\n",
       "      <td>15862.5</td>\n",
       "      <td>...</td>\n",
       "      <td>0</td>\n",
       "      <td>0</td>\n",
       "      <td>0</td>\n",
       "      <td>0</td>\n",
       "      <td>0.0</td>\n",
       "      <td>0.0</td>\n",
       "      <td>0.0</td>\n",
       "      <td>0.0</td>\n",
       "      <td>0.0</td>\n",
       "      <td>4.0</td>\n",
       "    </tr>\n",
       "  </tbody>\n",
       "</table>\n",
       "<p>5 rows × 122 columns</p>\n",
       "</div>"
      ],
      "text/plain": [
       "   SK_ID_CURR  TARGET NAME_CONTRACT_TYPE CODE_GENDER FLAG_OWN_CAR  \\\n",
       "0      384575       0         Cash loans           M            Y   \n",
       "1      214010       0         Cash loans           F            Y   \n",
       "2      142232       0         Cash loans           F            Y   \n",
       "3      389171       0         Cash loans           F            N   \n",
       "4      283617       0         Cash loans           M            N   \n",
       "\n",
       "  FLAG_OWN_REALTY  CNT_CHILDREN  AMT_INCOME_TOTAL  AMT_CREDIT  AMT_ANNUITY  \\\n",
       "0               N             2          207000.0    465457.5      52641.0   \n",
       "1               Y             0          247500.0   1281712.5      48946.5   \n",
       "2               N             0          202500.0    495000.0      39109.5   \n",
       "3               Y             0          247500.0    254700.0      24939.0   \n",
       "4               Y             0          112500.0    308133.0      15862.5   \n",
       "\n",
       "   ...  FLAG_DOCUMENT_18 FLAG_DOCUMENT_19 FLAG_DOCUMENT_20 FLAG_DOCUMENT_21  \\\n",
       "0  ...                 0                0                0                0   \n",
       "1  ...                 0                0                0                0   \n",
       "2  ...                 0                0                0                0   \n",
       "3  ...                 0                0                0                0   \n",
       "4  ...                 0                0                0                0   \n",
       "\n",
       "  AMT_REQ_CREDIT_BUREAU_HOUR AMT_REQ_CREDIT_BUREAU_DAY  \\\n",
       "0                        0.0                       0.0   \n",
       "1                        0.0                       0.0   \n",
       "2                        0.0                       0.0   \n",
       "3                        0.0                       0.0   \n",
       "4                        0.0                       0.0   \n",
       "\n",
       "   AMT_REQ_CREDIT_BUREAU_WEEK  AMT_REQ_CREDIT_BUREAU_MON  \\\n",
       "0                         0.0                        1.0   \n",
       "1                         0.0                        1.0   \n",
       "2                         0.0                        1.0   \n",
       "3                         0.0                        0.0   \n",
       "4                         0.0                        0.0   \n",
       "\n",
       "   AMT_REQ_CREDIT_BUREAU_QRT  AMT_REQ_CREDIT_BUREAU_YEAR  \n",
       "0                        0.0                         1.0  \n",
       "1                        0.0                         3.0  \n",
       "2                        0.0                         3.0  \n",
       "3                        0.0                         0.0  \n",
       "4                        0.0                         4.0  \n",
       "\n",
       "[5 rows x 122 columns]"
      ]
     },
     "execution_count": 4,
     "metadata": {},
     "output_type": "execute_result"
    }
   ],
   "source": [
    "df = pd.read_csv(r'application.csv')\n",
    "df.head()"
   ]
  },
  {
   "cell_type": "code",
   "execution_count": 5,
   "id": "39116e18",
   "metadata": {},
   "outputs": [
    {
     "data": {
      "text/plain": [
       "(array([1.097e+03, 3.109e+03, 3.445e+03, 3.273e+03, 1.965e+03, 1.143e+03,\n",
       "        6.960e+02, 3.440e+02, 1.460e+02, 6.100e+01, 3.000e+01, 2.900e+01,\n",
       "        1.100e+01, 9.000e+00, 5.000e+00, 1.000e+00, 7.000e+00, 1.000e+00,\n",
       "        0.000e+00, 1.000e+00, 0.000e+00, 0.000e+00, 1.000e+00, 0.000e+00,\n",
       "        0.000e+00, 0.000e+00, 0.000e+00, 0.000e+00, 0.000e+00, 1.000e+00]),\n",
       " array([  1980.  ,   9586.05,  17192.1 ,  24798.15,  32404.2 ,  40010.25,\n",
       "         47616.3 ,  55222.35,  62828.4 ,  70434.45,  78040.5 ,  85646.55,\n",
       "         93252.6 , 100858.65, 108464.7 , 116070.75, 123676.8 , 131282.85,\n",
       "        138888.9 , 146494.95, 154101.  , 161707.05, 169313.1 , 176919.15,\n",
       "        184525.2 , 192131.25, 199737.3 , 207343.35, 214949.4 , 222555.45,\n",
       "        230161.5 ]),\n",
       " <BarContainer object of 30 artists>)"
      ]
     },
     "execution_count": 5,
     "metadata": {},
     "output_type": "execute_result"
    },
    {
     "data": {
      "image/png": "[encoded data removed]",
      "text/plain": [
       "<Figure size 864x432 with 1 Axes>"
      ]
     },
     "metadata": {
      "needs_background": "light"
     },
     "output_type": "display_data"
    }
   ],
   "source": [
    "plt.figure(figsize = (12,6))\n",
    "plt.hist(df['AMT_ANNUITY'], bins = 30)"
   ]
  },
  {
   "cell_type": "code",
   "execution_count": 7,
   "id": "e164d17a",
   "metadata": {},
   "outputs": [
    {
     "data": {
      "text/plain": [
       "53253.0"
      ]
     },
     "execution_count": 7,
     "metadata": {},
     "output_type": "execute_result"
    }
   ],
   "source": [
    "large_value = df['AMT_ANNUITY'].quantile(0.95)\n",
    "large_value"
   ]
  },
  {
   "cell_type": "code",
   "execution_count": 8,
   "id": "b59ea69c",
   "metadata": {},
   "outputs": [
    {
     "data": {
      "text/plain": [
       "(array([  9.,  84., 300., 276., 717., 521., 883., 620., 869., 642., 794.,\n",
       "        821., 812., 812., 942., 597., 631., 722., 459., 455., 489., 347.,\n",
       "        325., 303., 223., 245., 203., 176., 156., 942.]),\n",
       " array([ 1980. ,  3689.1,  5398.2,  7107.3,  8816.4, 10525.5, 12234.6,\n",
       "        13943.7, 15652.8, 17361.9, 19071. , 20780.1, 22489.2, 24198.3,\n",
       "        25907.4, 27616.5, 29325.6, 31034.7, 32743.8, 34452.9, 36162. ,\n",
       "        37871.1, 39580.2, 41289.3, 42998.4, 44707.5, 46416.6, 48125.7,\n",
       "        49834.8, 51543.9, 53253. ]),\n",
       " <BarContainer object of 30 artists>)"
      ]
     },
     "execution_count": 8,
     "metadata": {},
     "output_type": "execute_result"
    },
    {
     "data": {
      "image/png": "[encoded data removed]",
      "text/plain": [
       "<Figure size 864x432 with 1 Axes>"
      ]
     },
     "metadata": {
      "needs_background": "light"
     },
     "output_type": "display_data"
    }
   ],
   "source": [
    "plt.figure(figsize = (12,6))\n",
    "plt.hist(df['AMT_ANNUITY'].clip(0,large_value), bins = 30)"
   ]
  },
  {
   "cell_type": "code",
   "execution_count": 10,
   "id": "e2addc4a",
   "metadata": {},
   "outputs": [
    {
     "name": "stdout",
     "output_type": "stream",
     "text": [
      "26472.55463414634\n",
      "12608.928801635886\n"
     ]
    }
   ],
   "source": [
    "# Convert to std normal distribution - \n",
    "# Find the mean\n",
    "ds = df['AMT_ANNUITY'].clip(0,large_value)\n",
    "u = ds.mean()\n",
    "# Find the standard deviation\n",
    "sigma = ds.std()\n",
    "print(u)\n",
    "print(sigma)"
   ]
  },
  {
   "cell_type": "code",
   "execution_count": 12,
   "id": "3ebcdb5d",
   "metadata": {},
   "outputs": [
    {
     "data": {
      "text/plain": [
       "(array([  9.,  84., 300., 276., 717., 521., 883., 620., 869., 642., 794.,\n",
       "        821., 812., 812., 942., 597., 631., 722., 459., 455., 489., 347.,\n",
       "        325., 303., 223., 245., 203., 176., 156., 942.]),\n",
       " array([-1.94247704, -1.80693023, -1.67138343, -1.53583662, -1.40028982,\n",
       "        -1.26474302, -1.12919621, -0.99364941, -0.8581026 , -0.7225558 ,\n",
       "        -0.587009  , -0.45146219, -0.31591539, -0.18036858, -0.04482178,\n",
       "         0.09072502,  0.22627183,  0.36181863,  0.49736544,  0.63291224,\n",
       "         0.76845904,  0.90400585,  1.03955265,  1.17509946,  1.31064626,\n",
       "         1.44619306,  1.58173987,  1.71728667,  1.85283347,  1.98838028,\n",
       "         2.12392708]),\n",
       " <BarContainer object of 30 artists>)"
      ]
     },
     "execution_count": 12,
     "metadata": {},
     "output_type": "execute_result"
    },
    {
     "data": {
      "image/png": "[encoded data removed]",
      "text/plain": [
       "<Figure size 864x432 with 1 Axes>"
      ]
     },
     "metadata": {
      "needs_background": "light"
     },
     "output_type": "display_data"
    }
   ],
   "source": [
    "ds_std = (ds-u)/sigma\n",
    "plt.figure(figsize = (12,6))\n",
    "plt.hist(ds_std, bins = 30)"
   ]
  },
  {
   "cell_type": "code",
   "execution_count": 13,
   "id": "d8ba0fa2",
   "metadata": {},
   "outputs": [
    {
     "data": {
      "text/plain": [
       "0        52641.0\n",
       "1        48946.5\n",
       "2        39109.5\n",
       "3        24939.0\n",
       "4        15862.5\n",
       "          ...   \n",
       "15371    31594.5\n",
       "15372    20250.0\n",
       "15373    29700.0\n",
       "15374    32337.0\n",
       "15375    32274.0\n",
       "Name: AMT_ANNUITY, Length: 15376, dtype: float64"
      ]
     },
     "execution_count": 13,
     "metadata": {},
     "output_type": "execute_result"
    }
   ],
   "source": []
  },
  {
   "cell_type": "code",
   "execution_count": 15,
   "id": "00e1bd1a",
   "metadata": {},
   "outputs": [
    {
     "data": {
      "text/plain": [
       "(array([2., 0., 4., 1., 5., 2., 2., 2., 1., 1., 4., 2., 1., 4., 2., 3., 2.,\n",
       "        1., 0., 2., 3., 0., 0., 3., 0., 0., 0., 0., 0., 3.]),\n",
       " array([ 4873.5 ,  6486.15,  8098.8 ,  9711.45, 11324.1 , 12936.75,\n",
       "        14549.4 , 16162.05, 17774.7 , 19387.35, 21000.  , 22612.65,\n",
       "        24225.3 , 25837.95, 27450.6 , 29063.25, 30675.9 , 32288.55,\n",
       "        33901.2 , 35513.85, 37126.5 , 38739.15, 40351.8 , 41964.45,\n",
       "        43577.1 , 45189.75, 46802.4 , 48415.05, 50027.7 , 51640.35,\n",
       "        53253.  ]),\n",
       " <BarContainer object of 30 artists>)"
      ]
     },
     "execution_count": 15,
     "metadata": {},
     "output_type": "execute_result"
    },
    {
     "data": {
      "image/png": "[encoded data removed]",
      "text/plain": [
       "<Figure size 864x432 with 1 Axes>"
      ]
     },
     "metadata": {
      "needs_background": "light"
     },
     "output_type": "display_data"
    }
   ],
   "source": [
    "# Make samples\n",
    "ds_sample = ds.sample(50)\n",
    "\n",
    "plt.figure(figsize = (12,6))\n",
    "plt.hist(ds_sample, bins = 30)"
   ]
  },
  {
   "cell_type": "code",
   "execution_count": 16,
   "id": "af7d53c5",
   "metadata": {},
   "outputs": [
    {
     "data": {
      "text/plain": [
       "(array([1., 1., 4., 2., 2., 6., 6., 6., 5., 6., 5., 6., 7., 2., 6., 0., 5.,\n",
       "        3., 2., 2., 2., 2., 2., 5., 1., 1., 6., 1., 0., 3.]),\n",
       " array([ 5571. ,  7160.4,  8749.8, 10339.2, 11928.6, 13518. , 15107.4,\n",
       "        16696.8, 18286.2, 19875.6, 21465. , 23054.4, 24643.8, 26233.2,\n",
       "        27822.6, 29412. , 31001.4, 32590.8, 34180.2, 35769.6, 37359. ,\n",
       "        38948.4, 40537.8, 42127.2, 43716.6, 45306. , 46895.4, 48484.8,\n",
       "        50074.2, 51663.6, 53253. ]),\n",
       " <BarContainer object of 30 artists>)"
      ]
     },
     "execution_count": 16,
     "metadata": {},
     "output_type": "execute_result"
    },
    {
     "data": {
      "image/png": "[encoded data removed]",
      "text/plain": [
       "<Figure size 864x432 with 1 Axes>"
      ]
     },
     "metadata": {
      "needs_background": "light"
     },
     "output_type": "display_data"
    }
   ],
   "source": [
    "# Take a bigger sample\n",
    "\n",
    "ds_sample = ds.sample(100)\n",
    "\n",
    "plt.figure(figsize = (12,6))\n",
    "plt.hist(ds_sample, bins = 30)"
   ]
  },
  {
   "cell_type": "code",
   "execution_count": 17,
   "id": "a49442d8",
   "metadata": {},
   "outputs": [
    {
     "data": {
      "text/plain": [
       "(array([ 5., 13., 15., 14., 20., 31., 19., 27., 20., 12., 25., 20., 22.,\n",
       "        29., 18., 18., 22., 16., 20., 13., 17., 10.,  7., 12., 10.,  9.,\n",
       "         3.,  8.,  2., 43.]),\n",
       " array([ 4743.,  6360.,  7977.,  9594., 11211., 12828., 14445., 16062.,\n",
       "        17679., 19296., 20913., 22530., 24147., 25764., 27381., 28998.,\n",
       "        30615., 32232., 33849., 35466., 37083., 38700., 40317., 41934.,\n",
       "        43551., 45168., 46785., 48402., 50019., 51636., 53253.]),\n",
       " <BarContainer object of 30 artists>)"
      ]
     },
     "execution_count": 17,
     "metadata": {},
     "output_type": "execute_result"
    },
    {
     "data": {
      "image/png": "[encoded data removed]",
      "text/plain": [
       "<Figure size 864x432 with 1 Axes>"
      ]
     },
     "metadata": {
      "needs_background": "light"
     },
     "output_type": "display_data"
    }
   ],
   "source": [
    "# Take a bigger sample\n",
    "ds_sample = ds.sample(500)\n",
    "\n",
    "plt.figure(figsize = (12,6))\n",
    "plt.hist(ds_sample, bins = 30)"
   ]
  },
  {
   "cell_type": "code",
   "execution_count": 18,
   "id": "b002a7b2",
   "metadata": {},
   "outputs": [
    {
     "data": {
      "text/plain": [
       "(array([ 5., 16., 24., 17., 25., 35., 27., 41., 17., 32., 45., 51., 39.,\n",
       "        39., 22., 31., 25., 23., 10., 23., 15., 19., 17., 10., 16., 13.,\n",
       "         8.,  6.,  8., 41.]),\n",
       " array([ 4207.5 ,  5842.35,  7477.2 ,  9112.05, 10746.9 , 12381.75,\n",
       "        14016.6 , 15651.45, 17286.3 , 18921.15, 20556.  , 22190.85,\n",
       "        23825.7 , 25460.55, 27095.4 , 28730.25, 30365.1 , 31999.95,\n",
       "        33634.8 , 35269.65, 36904.5 , 38539.35, 40174.2 , 41809.05,\n",
       "        43443.9 , 45078.75, 46713.6 , 48348.45, 49983.3 , 51618.15,\n",
       "        53253.  ]),\n",
       " <BarContainer object of 30 artists>)"
      ]
     },
     "execution_count": 18,
     "metadata": {},
     "output_type": "execute_result"
    },
    {
     "data": {
      "image/png": "[encoded data removed]",
      "text/plain": [
       "<Figure size 864x432 with 1 Axes>"
      ]
     },
     "metadata": {
      "needs_background": "light"
     },
     "output_type": "display_data"
    }
   ],
   "source": [
    "# Take a bigger sample\n",
    "ds_sample = ds.sample(700)\n",
    "\n",
    "plt.figure(figsize = (12,6))\n",
    "plt.hist(ds_sample, bins = 30)"
   ]
  },
  {
   "cell_type": "code",
   "execution_count": 19,
   "id": "da7ad55d",
   "metadata": {},
   "outputs": [
    {
     "data": {
      "text/plain": [
       "(array([ 5., 12., 23., 37., 34., 35., 53., 48., 50., 36., 48., 60., 50.,\n",
       "        68., 51., 45., 57., 43., 23., 27., 29., 25., 13., 15., 19., 13.,\n",
       "         9., 12.,  5., 55.]),\n",
       " array([ 3051. ,  4724.4,  6397.8,  8071.2,  9744.6, 11418. , 13091.4,\n",
       "        14764.8, 16438.2, 18111.6, 19785. , 21458.4, 23131.8, 24805.2,\n",
       "        26478.6, 28152. , 29825.4, 31498.8, 33172.2, 34845.6, 36519. ,\n",
       "        38192.4, 39865.8, 41539.2, 43212.6, 44886. , 46559.4, 48232.8,\n",
       "        49906.2, 51579.6, 53253. ]),\n",
       " <BarContainer object of 30 artists>)"
      ]
     },
     "execution_count": 19,
     "metadata": {},
     "output_type": "execute_result"
    },
    {
     "data": {
      "image/png": "[encoded data removed]",
      "text/plain": [
       "<Figure size 864x432 with 1 Axes>"
      ]
     },
     "metadata": {
      "needs_background": "light"
     },
     "output_type": "display_data"
    }
   ],
   "source": [
    "# Take a bigger sample\n",
    "ds_sample = ds.sample(1000)\n",
    "\n",
    "plt.figure(figsize = (12,6))\n",
    "plt.hist(ds_sample, bins = 30)"
   ]
  },
  {
   "cell_type": "code",
   "execution_count": null,
   "id": "7e5d3e34",
   "metadata": {},
   "outputs": [],
   "source": [
    "# For a normally distributed variable, as we go on increasing the size of the sample, the sample starts following Normal DIstribution"
   ]
  },
  {
   "cell_type": "code",
   "execution_count": 28,
   "id": "31a1227a",
   "metadata": {},
   "outputs": [
    {
     "data": {
      "text/plain": [
       "(array([  9.,  84., 300., 276., 717., 521., 883., 620., 869., 642., 794.,\n",
       "        821., 812., 812., 942., 597., 631., 722., 459., 455., 489., 347.,\n",
       "        325., 303., 223., 245., 203., 176., 156., 942.]),\n",
       " array([ 1980. ,  3689.1,  5398.2,  7107.3,  8816.4, 10525.5, 12234.6,\n",
       "        13943.7, 15652.8, 17361.9, 19071. , 20780.1, 22489.2, 24198.3,\n",
       "        25907.4, 27616.5, 29325.6, 31034.7, 32743.8, 34452.9, 36162. ,\n",
       "        37871.1, 39580.2, 41289.3, 42998.4, 44707.5, 46416.6, 48125.7,\n",
       "        49834.8, 51543.9, 53253. ]),\n",
       " <BarContainer object of 30 artists>)"
      ]
     },
     "execution_count": 28,
     "metadata": {},
     "output_type": "execute_result"
    },
    {
     "data": {
      "image/png": "[encoded data removed]",
      "text/plain": [
       "<Figure size 864x432 with 1 Axes>"
      ]
     },
     "metadata": {
      "needs_background": "light"
     },
     "output_type": "display_data"
    }
   ],
   "source": [
    "# Plotting the clipped variable \n",
    "plt.figure(figsize = (12,6))\n",
    "plt.hist(ds, bins = 30)"
   ]
  },
  {
   "cell_type": "code",
   "execution_count": 26,
   "id": "80270350",
   "metadata": {},
   "outputs": [],
   "source": [
    "# Now let's take many samples, keep the sample size small\n",
    "sample_lst = []\n",
    "for i in range(10000):\n",
    "    s = ds.sample(50)\n",
    "    sample_lst.append(s.mean())"
   ]
  },
  {
   "cell_type": "code",
   "execution_count": 27,
   "id": "488e0d71",
   "metadata": {},
   "outputs": [
    {
     "data": {
      "text/plain": [
       "(array([1.000e+00, 0.000e+00, 0.000e+00, 0.000e+00, 5.000e+00, 1.000e+01,\n",
       "        2.900e+01, 7.000e+01, 1.270e+02, 2.620e+02, 4.070e+02, 6.260e+02,\n",
       "        8.450e+02, 9.860e+02, 1.144e+03, 1.143e+03, 1.079e+03, 9.600e+02,\n",
       "        7.880e+02, 5.610e+02, 3.920e+02, 2.660e+02, 1.520e+02, 6.300e+01,\n",
       "        4.900e+01, 2.100e+01, 9.000e+00, 2.000e+00, 2.000e+00, 1.000e+00]),\n",
       " array([18367.2  , 18889.152, 19411.104, 19933.056, 20455.008, 20976.96 ,\n",
       "        21498.912, 22020.864, 22542.816, 23064.768, 23586.72 , 24108.672,\n",
       "        24630.624, 25152.576, 25674.528, 26196.48 , 26718.432, 27240.384,\n",
       "        27762.336, 28284.288, 28806.24 , 29328.192, 29850.144, 30372.096,\n",
       "        30894.048, 31416.   , 31937.952, 32459.904, 32981.856, 33503.808,\n",
       "        34025.76 ]),\n",
       " <BarContainer object of 30 artists>)"
      ]
     },
     "execution_count": 27,
     "metadata": {},
     "output_type": "execute_result"
    },
    {
     "data": {
      "image/png": "[encoded data removed]",
      "text/plain": [
       "<Figure size 864x432 with 1 Axes>"
      ]
     },
     "metadata": {
      "needs_background": "light"
     },
     "output_type": "display_data"
    }
   ],
   "source": [
    "plt.figure(figsize = (12,6))\n",
    "plt.hist(sample_lst, bins = 30)"
   ]
  },
  {
   "cell_type": "code",
   "execution_count": null,
   "id": "f9b853df",
   "metadata": {},
   "outputs": [],
   "source": [
    "# If we take too many samples and we plot the means of those samples, then it follow normal distribution"
   ]
  },
  {
   "cell_type": "code",
   "execution_count": 30,
   "id": "583e1428",
   "metadata": {},
   "outputs": [
    {
     "data": {
      "text/plain": [
       "(array([1.097e+03, 3.109e+03, 3.445e+03, 3.273e+03, 1.965e+03, 1.143e+03,\n",
       "        6.960e+02, 3.440e+02, 1.460e+02, 6.100e+01, 3.000e+01, 2.900e+01,\n",
       "        1.100e+01, 9.000e+00, 5.000e+00, 1.000e+00, 7.000e+00, 1.000e+00,\n",
       "        0.000e+00, 1.000e+00, 0.000e+00, 0.000e+00, 1.000e+00, 0.000e+00,\n",
       "        0.000e+00, 0.000e+00, 0.000e+00, 0.000e+00, 0.000e+00, 1.000e+00]),\n",
       " array([  1980.  ,   9586.05,  17192.1 ,  24798.15,  32404.2 ,  40010.25,\n",
       "         47616.3 ,  55222.35,  62828.4 ,  70434.45,  78040.5 ,  85646.55,\n",
       "         93252.6 , 100858.65, 108464.7 , 116070.75, 123676.8 , 131282.85,\n",
       "        138888.9 , 146494.95, 154101.  , 161707.05, 169313.1 , 176919.15,\n",
       "        184525.2 , 192131.25, 199737.3 , 207343.35, 214949.4 , 222555.45,\n",
       "        230161.5 ]),\n",
       " <BarContainer object of 30 artists>)"
      ]
     },
     "execution_count": 30,
     "metadata": {},
     "output_type": "execute_result"
    },
    {
     "data": {
      "image/png": "[encoded data removed]",
      "text/plain": [
       "<Figure size 864x432 with 1 Axes>"
      ]
     },
     "metadata": {
      "needs_background": "light"
     },
     "output_type": "display_data"
    }
   ],
   "source": [
    "plt.figure(figsize = (12,6))\n",
    "plt.hist(df['AMT_ANNUITY'], bins = 30)"
   ]
  },
  {
   "cell_type": "code",
   "execution_count": 54,
   "id": "042a3a87",
   "metadata": {},
   "outputs": [
    {
     "data": {
      "text/plain": [
       "(array([   3.,    3.,    9.,   26.,   42.,   80.,  138.,  249.,  345.,\n",
       "         496.,  600.,  752.,  939., 1006., 1022.,  925.,  868.,  737.,\n",
       "         552.,  415.,  332.,  192.,  114.,   77.,   32.,   14.,   20.,\n",
       "           8.,    2.,    2.]),\n",
       " array([24759.963 , 24920.8842, 25081.8054, 25242.7266, 25403.6478,\n",
       "        25564.569 , 25725.4902, 25886.4114, 26047.3326, 26208.2538,\n",
       "        26369.175 , 26530.0962, 26691.0174, 26851.9386, 27012.8598,\n",
       "        27173.781 , 27334.7022, 27495.6234, 27656.5446, 27817.4658,\n",
       "        27978.387 , 28139.3082, 28300.2294, 28461.1506, 28622.0718,\n",
       "        28782.993 , 28943.9142, 29104.8354, 29265.7566, 29426.6778,\n",
       "        29587.599 ]),\n",
       " <BarContainer object of 30 artists>)"
      ]
     },
     "execution_count": 54,
     "metadata": {},
     "output_type": "execute_result"
    },
    {
     "data": {
      "image/png": "[encoded data removed]",
      "text/plain": [
       "<Figure size 864x432 with 1 Axes>"
      ]
     },
     "metadata": {
      "needs_background": "light"
     },
     "output_type": "display_data"
    }
   ],
   "source": [
    "n_samples = 10000\n",
    "sample_size = 500\n",
    "sample_lst = []\n",
    "for i in range(n_samples):\n",
    "    s = df['AMT_ANNUITY'].sample(sample_size)\n",
    "    sample_lst.append(s.mean())\n",
    "plt.figure(figsize = (12,6))\n",
    "plt.hist(sample_lst, bins = 30)"
   ]
  },
  {
   "cell_type": "code",
   "execution_count": 55,
   "id": "b224e8f1",
   "metadata": {},
   "outputs": [
    {
     "name": "stdout",
     "output_type": "stream",
     "text": [
      "Actual Mean 27076.127707317075\n",
      "Mean of many sample means 27066.89154718858\n",
      "Actual STD 14493.183809118882\n",
      "SD of many sample means 637.7446178510892\n"
     ]
    }
   ],
   "source": [
    "\n",
    "print(\"Actual Mean\", df['AMT_ANNUITY'].mean())\n",
    "print(\"Mean of many sample means\", np.mean(np.array(sample_lst)))\n",
    "print(\"Actual STD\", df['AMT_ANNUITY'].std())\n",
    "print(\"SD of many sample means\", np.std(np.array(sample_lst)))\n",
    "\n"
   ]
  },
  {
   "cell_type": "code",
   "execution_count": 56,
   "id": "c0228521",
   "metadata": {},
   "outputs": [
    {
     "data": {
      "text/plain": [
       "5.0"
      ]
     },
     "execution_count": 56,
     "metadata": {},
     "output_type": "execute_result"
    }
   ],
   "source": [
    "# The mean of those samples is close to the actual mean\n",
    "0.1/0.02"
   ]
  },
  {
   "cell_type": "code",
   "execution_count": 57,
   "id": "8aa2f6d2",
   "metadata": {},
   "outputs": [
    {
     "data": {
      "text/plain": [
       "100.0"
      ]
     },
     "execution_count": 57,
     "metadata": {},
     "output_type": "execute_result"
    }
   ],
   "source": [
    "0.1/0.001"
   ]
  },
  {
   "cell_type": "code",
   "execution_count": null,
   "id": "6545b447",
   "metadata": {},
   "outputs": [],
   "source": []
  }
 ],
 "metadata": {
  "kernelspec": {
   "display_name": "Python 3 (ipykernel)",
   "language": "python",
   "name": "python3"
  },
  "language_info": {
   "codemirror_mode": {
    "name": "ipython",
    "version": 3
   },
   "file_extension": ".py",
   "mimetype": "text/x-python",
   "name": "python",
   "nbconvert_exporter": "python",
   "pygments_lexer": "ipython3",
   "version": "3.9.12"
  }
 },
 "nbformat": 4,
 "nbformat_minor": 5
}
