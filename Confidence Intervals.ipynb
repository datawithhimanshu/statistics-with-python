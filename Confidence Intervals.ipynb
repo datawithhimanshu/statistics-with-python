{
 "cells": [
  {
   "cell_type": "code",
   "execution_count": 1,
   "id": "990b3986",
   "metadata": {},
   "outputs": [],
   "source": [
    "import numpy as np\n",
    "import pandas as pd\n",
    "\n",
    "from IPython.core.interactiveshell import InteractiveShell\n",
    "InteractiveShell.ast_node_interactivity = \"all\"\n",
    "from scipy import stats"
   ]
  },
  {
   "cell_type": "code",
   "execution_count": null,
   "id": "c8541d7c",
   "metadata": {},
   "outputs": [],
   "source": [
    "# Question: \n",
    "# Bulb factory claims that life span of it's bulbs is 1200 hours with a standard deviation of 25 hours\n",
    "# We find a sample - of 500 bulbs and average life span was calculated\n",
    "# Tell me what should be the range of avg lifepan of this sample to be considered close to true mean with significance level\n",
    "# of 5%\n",
    "\n"
   ]
  },
  {
   "cell_type": "code",
   "execution_count": 2,
   "id": "0bdeb902",
   "metadata": {},
   "outputs": [
    {
     "data": {
      "text/plain": [
       "(1197.8086533820501, 1202.1913466179499)"
      ]
     },
     "execution_count": 2,
     "metadata": {},
     "output_type": "execute_result"
    }
   ],
   "source": [
    "# Acceptable range - u - 1.96*se, u + 1.96*se\n",
    "\n",
    "u = 1200\n",
    "sigma = 25\n",
    "\n",
    "n = 500\n",
    "se = sigma/np.sqrt(n)\n",
    "\n",
    "u - 1.96*se, u+1.96*se"
   ]
  },
  {
   "cell_type": "code",
   "execution_count": null,
   "id": "c56278e4",
   "metadata": {},
   "outputs": [],
   "source": [
    "# A researcher wants to estimate the average monthly electricity bill for households in a city. \n",
    "# Based on a large random sample of 120 households, the average bill is ₹2,340. \n",
    "# Assume the population standard deviation is known to be ₹480.\n",
    "# Estimate the value  of true mean with 95% confidence\n",
    "\n"
   ]
  },
  {
   "cell_type": "code",
   "execution_count": 3,
   "id": "2f855198",
   "metadata": {},
   "outputs": [
    {
     "data": {
      "text/plain": [
       "(2254.11710298319, 2425.88289701681)"
      ]
     },
     "execution_count": 3,
     "metadata": {},
     "output_type": "execute_result"
    }
   ],
   "source": [
    "# Acceptable range - x - 1.96*se, x + 1.96*se\n",
    "\n",
    "# Sample -\n",
    "x = 2340\n",
    "n = 120\n",
    "\n",
    "# pop- \n",
    "sigma = 480\n",
    "\n",
    "\n",
    "se = sigma/np.sqrt(n)\n",
    "\n",
    "x - 1.96*se, x + 1.96*se"
   ]
  },
  {
   "cell_type": "code",
   "execution_count": 7,
   "id": "ae9ad3ee",
   "metadata": {},
   "outputs": [
    {
     "data": {
      "text/plain": [
       "(486.59935765771087, 497.40064234228913)"
      ]
     },
     "execution_count": 7,
     "metadata": {},
     "output_type": "execute_result"
    }
   ],
   "source": [
    "# A dairy plant claims that each milk packet contains exactly 500 ml. A quality control team samples 12 packets and finds:\n",
    "\n",
    "# Sample mean = 492 ml\n",
    "\n",
    "# Sample standard deviation = 8.5 ml\n",
    "\n",
    "# Construct a 95% confidence interval for the true mean volume.\n",
    "# Based on this interval, comment on whether the plant’s claim of 500 ml is reliable.\n",
    "\n",
    "\n",
    "# Sample info:\n",
    "x = 492\n",
    "s = 8.5\n",
    "n = 12\n",
    "\n",
    "se = s/np.sqrt(n)\n",
    "\n",
    "# Threshold:\n",
    "t_thresh = stats.t.ppf(0.025, df = n-1)\n",
    "\n",
    "x - (-1*t_thresh*se), x + (-1*t_thresh*se)"
   ]
  },
  {
   "cell_type": "code",
   "execution_count": null,
   "id": "5b3792f9",
   "metadata": {},
   "outputs": [],
   "source": [
    "# A pharmaceutical firm claims a pill contains 25 mg of active compound. A lab tests 10 randomly selected pills and gets:\n",
    "\n",
    "# Mean = 24.2 mg\n",
    "\n",
    "# Std Dev = 1.4 mg\n",
    "\n",
    "# Construct a 99% confidence interval for the mean active compound.\n",
    "# What does the interval suggest about the company’s claim?"
   ]
  },
  {
   "cell_type": "code",
   "execution_count": null,
   "id": "44052fcf",
   "metadata": {},
   "outputs": [],
   "source": [
    "# Q3. Bolt Strength in Aircraft Parts\n",
    "# Each titanium bolt is expected to withstand at least 4700 PSI of pressure before failing. Engineers test 15 bolts and find:\n",
    "\n",
    "# Mean strength = 4720 PSI\n",
    "\n",
    "# Std Dev = 35 PSI\n",
    "\n",
    "# Construct a 90% confidence interval for the true average strength.\n",
    "# Based on this, can you guarantee with 90% confidence that all bolts meet the 4700 PSI requirement?"
   ]
  }
 ],
 "metadata": {
  "kernelspec": {
   "display_name": "Python 3 (ipykernel)",
   "language": "python",
   "name": "python3"
  },
  "language_info": {
   "codemirror_mode": {
    "name": "ipython",
    "version": 3
   },
   "file_extension": ".py",
   "mimetype": "text/x-python",
   "name": "python",
   "nbconvert_exporter": "python",
   "pygments_lexer": "ipython3",
   "version": "3.9.7"
  }
 },
 "nbformat": 4,
 "nbformat_minor": 5
}
