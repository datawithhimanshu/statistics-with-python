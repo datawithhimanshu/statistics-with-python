{
 "cells": [
  {
   "cell_type": "code",
   "execution_count": 2,
   "id": "42f44e20",
   "metadata": {},
   "outputs": [],
   "source": [
    "import numpy as np\n",
    "import pandas as pd"
   ]
  },
  {
   "cell_type": "code",
   "execution_count": null,
   "id": "14afff3a",
   "metadata": {},
   "outputs": [],
   "source": [
    "#A factory produces screws where the defect rate is claimed to be 2%.\n",
    "#A manager believes the defect rate has increased after new machines were installed.\n",
    "# Mean defect after new machine are installed was found to be 2.3% in a sample of 500 screws\n",
    "# Has defect rate actually increased?\n",
    "\n",
    "\n",
    "# Sample information\n",
    "x = 0.023 # imagine"
   ]
  },
  {
   "cell_type": "code",
   "execution_count": 3,
   "id": "5fb87dbb",
   "metadata": {},
   "outputs": [
    {
     "data": {
      "text/plain": [
       "2.3570226039551585"
      ]
     },
     "execution_count": 3,
     "metadata": {},
     "output_type": "execute_result"
    }
   ],
   "source": [
    "# A coffee shop claims that the average order value at their store is $15.\n",
    "# Standard deviation: $3\n",
    "# A market analyst wants to verify this claim. They randomly sampled 50 transactions and found:\n",
    "# Mean order value: $16\n",
    "\n",
    "# Whether the average order value of the cafe has increased\n",
    "\n",
    "\n",
    "# Sample information\n",
    "x = 16 # \n",
    "n = 50\n",
    "\n",
    "sigma = 3\n",
    "u = 15\n",
    "\n",
    "se = 3/np.sqrt(n)\n",
    "\n",
    "# find how far is 16 from 15 in terms of SE\n",
    "(x-u)/se\n",
    "\n",
    "\n",
    "# i.e the average order value has changed\n",
    "\n"
   ]
  },
  {
   "cell_type": "code",
   "execution_count": null,
   "id": "327702e3",
   "metadata": {},
   "outputs": [],
   "source": [
    "# Formal way\n",
    "# H0: The sample average order value = The average order value claimed by company\n",
    "# HA: The sample average order value != The average order value claimed by company\n",
    "\n",
    "# z score = 2.35, --> outside the permissible limits\n",
    "\n",
    "# We reject the null hypothesis and we say that The sample average order value != The average order value claimed by company"
   ]
  },
  {
   "cell_type": "code",
   "execution_count": 6,
   "id": "f965019f",
   "metadata": {},
   "outputs": [
    {
     "data": {
      "text/plain": [
       "-0.8838834764831844"
      ]
     },
     "execution_count": 6,
     "metadata": {},
     "output_type": "execute_result"
    }
   ],
   "source": [
    "# Problem: A factory produces light bulbs that are advertised to last 1,200 hours on average. \n",
    "# with a known standard deviation of 80 hours. \n",
    "# A random sample of 50 light bulbs has a mean lifespan of 1,190 hours, \n",
    "# Test whether the average lifespan is less than 1,200 hours\n",
    "\n",
    "\n",
    "# sample information\n",
    "x = 1190\n",
    "n = 50\n",
    "\n",
    "# \n",
    "u = 1200\n",
    "sigma = 80\n",
    "\n",
    "se = sigma/np.sqrt(n)\n",
    "\n",
    "# distance (z score)\n",
    "(x-u)/se"
   ]
  },
  {
   "cell_type": "code",
   "execution_count": 8,
   "id": "bb4721c3",
   "metadata": {},
   "outputs": [],
   "source": [
    "# H0: Sample average lifespan of bulbs = advertised average lifespan of bulbs (close to mean)\n",
    "# HA: Sample average lifespan of bulbs = advertised average lifespan of bulbs (away from mean)\n",
    "\n",
    "# z score = -0.883\n",
    "\n",
    "# We accept the null hypothesis and thus Sample average lifespan of bulbs = advertised average lifespan of bulbs"
   ]
  },
  {
   "cell_type": "code",
   "execution_count": 7,
   "id": "5fd92d4b",
   "metadata": {},
   "outputs": [
    {
     "data": {
      "text/plain": [
       "-1.8973665961010278"
      ]
     },
     "execution_count": 7,
     "metadata": {},
     "output_type": "execute_result"
    }
   ],
   "source": [
    "# A pharmaceutical company developed a new drug to lower systolic blood pressure. \n",
    "# The average systolic blood pressure for patients with mild hypertension before any treatment is 150 mmHg, \n",
    "# with a known population standard deviation of 20 mmHg.\n",
    "\n",
    "# To test the effectiveness of the new drug, the company administered it to a random sample of 40 patients, \n",
    "# and after 2 weeks, the mean systolic blood pressure was found to be 144 mmHg.\n",
    "\n",
    "# Whether the drug is effective or not?\n",
    "\n",
    "\n",
    "# Sample information\n",
    "x = 144\n",
    "n = 40\n",
    "\n",
    "\n",
    "# pop info\n",
    "u = 150\n",
    "sigma = 20\n",
    "\n",
    "se = sigma/np.sqrt(n)\n",
    "\n",
    "\n",
    "# find the distance\n",
    "\n",
    "(x-u)/se"
   ]
  },
  {
   "cell_type": "code",
   "execution_count": null,
   "id": "fa5fdf44",
   "metadata": {},
   "outputs": [],
   "source": [
    "# Home work - Try doing the formal way\n",
    "\n",
    "# H0: Old blood pressure = new blood pressure (close to mean --> Drug not working)\n",
    "# HA: Old blood pressure != new blood pressure (away from mean --> Drug is working)\n",
    "\n",
    "# z score = -1.89 --> Acceptable range -->Accept --> Drug not working"
   ]
  },
  {
   "cell_type": "code",
   "execution_count": 12,
   "id": "f4274f54",
   "metadata": {},
   "outputs": [
    {
     "data": {
      "text/plain": [
       "0.47915742374995485"
      ]
     },
     "execution_count": 12,
     "metadata": {},
     "output_type": "execute_result"
    }
   ],
   "source": [
    "# percentage - proportion\n",
    "\n",
    "#A factory produces screws where the defect rate is claimed to be 2%.\n",
    "#A manager believes the defect rate has increased after new machines were installed.\n",
    "# Mean defect after new machine are installed was found to be 2.3% in a sample of 500 screws\n",
    "# Has defect rate actually increased?\n",
    "\n",
    "\n",
    "# sample information \n",
    "x = 0.023\n",
    "n = 500\n",
    "\n",
    "\n",
    "# popultaion information\n",
    "u = 0.02\n",
    "sigma = np.sqrt(u*(1-u))\n",
    "\n",
    "n = 500\n",
    "\n",
    "se = sigma/np.sqrt(n)\n",
    "\n",
    "z_score = (x-u)/se"
   ]
  },
  {
   "cell_type": "code",
   "execution_count": null,
   "id": "4fa6a3ba",
   "metadata": {},
   "outputs": [],
   "source": [
    "# Formally, \n",
    "# H0: Sample's Mean defect = claimed defect (close to mean)\n",
    "# HA: Sample's Mean defect != claimed defect (away to mean)\n",
    "\n",
    "# z score = 0.47 - within acceptable range\n",
    "\n",
    "# We accept the null hypothesis thus we say that Sample's mean defect = claimed mean defect."
   ]
  },
  {
   "cell_type": "code",
   "execution_count": 13,
   "id": "f0d21e59",
   "metadata": {},
   "outputs": [
    {
     "data": {
      "text/plain": [
       "0.27529888064467406"
      ]
     },
     "execution_count": 13,
     "metadata": {},
     "output_type": "execute_result"
    }
   ],
   "source": [
    "# Question\n",
    "\n",
    "# A company runs it's ads and has a CTR 5%\n",
    "# A new product manager is hired and he devises a strategy and now the CTR was found to be 5.6% basis a sample of 100 days\n",
    "# THere is a change is CTR\n",
    "\n",
    "\n",
    "# Sample information\n",
    "x = 0.056\n",
    "n = 100\n",
    "\n",
    "# Population\n",
    "u = 0.05\n",
    "sd = np.sqrt(u*(1-u))\n",
    "\n",
    "se = sd/np.sqrt(n)\n",
    "\n",
    "\n",
    "(x-u)/se"
   ]
  },
  {
   "cell_type": "code",
   "execution_count": null,
   "id": "9e97ab28",
   "metadata": {},
   "outputs": [],
   "source": [
    "# Formally, \n",
    "\n",
    "# H0: New CTR = OLD CTR (close to mean)\n",
    "\n",
    "# HA: New CTR != OLD CTR (away from mean)\n",
    "\n",
    "# z score = 0.26 --> within acceptable range \n",
    "\n",
    "# We accept the null hypothesis and thus there is no change in CTR"
   ]
  }
 ],
 "metadata": {
  "kernelspec": {
   "display_name": "Python 3 (ipykernel)",
   "language": "python",
   "name": "python3"
  },
  "language_info": {
   "codemirror_mode": {
    "name": "ipython",
    "version": 3
   },
   "file_extension": ".py",
   "mimetype": "text/x-python",
   "name": "python",
   "nbconvert_exporter": "python",
   "pygments_lexer": "ipython3",
   "version": "3.9.12"
  }
 },
 "nbformat": 4,
 "nbformat_minor": 5
}
