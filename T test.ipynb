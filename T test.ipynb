{
 "cells": [
  {
   "cell_type": "code",
   "execution_count": 2,
   "id": "04a0c419",
   "metadata": {},
   "outputs": [],
   "source": [
    "import numpy as np\n",
    "import pandas as pd\n",
    "\n",
    "from IPython.core.interactiveshell import InteractiveShell\n",
    "InteractiveShell.ast_node_interactivity = \"all\"\n",
    "from scipy import stats"
   ]
  },
  {
   "cell_type": "code",
   "execution_count": 3,
   "id": "3594f1f0",
   "metadata": {},
   "outputs": [
    {
     "data": {
      "text/plain": [
       "-1.6448536269514729"
      ]
     },
     "execution_count": 3,
     "metadata": {},
     "output_type": "execute_result"
    }
   ],
   "source": [
    "stats.norm.ppf(0.05)"
   ]
  },
  {
   "cell_type": "code",
   "execution_count": null,
   "id": "45499e90",
   "metadata": {},
   "outputs": [],
   "source": [
    "# A fintech company believes that customers using its app complete loan applications in less than 12 minutes on average. \n",
    "# A UX researcher takes a random sample of 15 customers and records the following times (in minutes):\n",
    "\n",
    "lst = [11.2, 13.1, 10.8, 12.5, 11.7, 10.3, 11.0, 12.1, 13.0, 11.8, 10.9, 12.3, 11.5, 10.6, 12.7]\n",
    "\n",
    "# At a 5% significance level, test whether the average time to complete an application is less than 12 minutes.\n",
    "\n",
    "\n",
    "# Sample \n",
    "x = np.mean(np.array(lst))\n",
    "n = len(lst)\n",
    "df = n-1\n",
    "# std of sample\n",
    "s = np.std(np.array(lst), ddof = df)\n",
    "\n",
    "\n",
    "# pop info\n",
    "u = 12\n",
    "\n",
    "se = s/np.sqrt(n)\n",
    "\n",
    "\n",
    "# t score \n",
    "(x-u)/se\n",
    "\n",
    "stats.t.ppf(0.05, df = df)"
   ]
  },
  {
   "cell_type": "code",
   "execution_count": 6,
   "id": "00b4b37e",
   "metadata": {},
   "outputs": [
    {
     "data": {
      "text/plain": [
       "-1.6237976320958223"
      ]
     },
     "execution_count": 6,
     "metadata": {},
     "output_type": "execute_result"
    },
    {
     "data": {
      "text/plain": [
       "-1.7958848187036696"
      ]
     },
     "execution_count": 6,
     "metadata": {},
     "output_type": "execute_result"
    }
   ],
   "source": [
    "# Ques\n",
    "\n",
    "# A startup introduces a new healthy pantry policy and claims that the average daily sugar intake per employee \n",
    "# has dropped to less than 30 grams.\n",
    "\n",
    "# To verify the claim, an HR analyst selects a random sample of 12 employees and records their sugar intake over a week. \n",
    "# The sample mean turns out to be 28.5g with a standard deviation of 3.2g.\n",
    "\n",
    "# At a 5% significance level, test whether the average sugar intake has actually reduced below 30g.\n",
    "\n",
    "# Sample\n",
    "x = 28.5\n",
    "s = 3.2\n",
    "n = 12\n",
    "\n",
    "# Population details:\n",
    "u = 30\n",
    "\n",
    "\n",
    "se = s/np.sqrt(n)\n",
    "\n",
    "\n",
    "t_score = (x-u)/se\n",
    "t_score\n",
    "\n",
    "\n",
    "# THreshold:\n",
    "stats.t.ppf(0.05, df = n-1)"
   ]
  },
  {
   "cell_type": "code",
   "execution_count": 7,
   "id": "0e069641",
   "metadata": {},
   "outputs": [
    {
     "data": {
      "text/plain": [
       "0.0667603543588553"
      ]
     },
     "execution_count": 7,
     "metadata": {},
     "output_type": "execute_result"
    }
   ],
   "source": [
    "# Formally, \n",
    "# H0: Claimed sugar levels = sample's sugar level\n",
    "# HA: Claimed sugar levels < sample's sugar level\n",
    "\n",
    "# Accept the null hypothesis ---> Sugar levels have not dropped to less than 30gms.\n",
    "\n",
    "stats.t.cdf(-1.62, df = n-1)\n",
    "\n",
    "# Since the p value > significance valye thus we accept the null hypothesis."
   ]
  },
  {
   "cell_type": "code",
   "execution_count": null,
   "id": "422f0459",
   "metadata": {},
   "outputs": [],
   "source": [
    "# A wellness app introduces a new AI-based reminder system to improve daily step count. \n",
    "# They claim the average steps per user has increased to more than 8,000.\n",
    "\n",
    "# You collect data from a sample of 25 users, and find the average step count is 8,350 with a standard deviation of 950 steps.\n",
    "\n",
    "# At a 5% significance level, test if the new reminder system has significantly increased the average daily steps beyond 8,000."
   ]
  },
  {
   "cell_type": "code",
   "execution_count": 8,
   "id": "d984888f",
   "metadata": {},
   "outputs": [
    {
     "data": {
      "text/plain": [
       "1.8421052631578947"
      ]
     },
     "execution_count": 8,
     "metadata": {},
     "output_type": "execute_result"
    }
   ],
   "source": [
    "# Sample:\n",
    "x = 8350\n",
    "s = 950\n",
    "n = 25\n",
    "\n",
    "# pop\n",
    "u = 8000\n",
    "\n",
    "se = s/np.sqrt(n)\n",
    "\n",
    "t_score = (x-u)/se\n",
    "t_score"
   ]
  },
  {
   "cell_type": "code",
   "execution_count": 10,
   "id": "bef80902",
   "metadata": {},
   "outputs": [
    {
     "data": {
      "text/plain": [
       "0.03908444703932501"
      ]
     },
     "execution_count": 10,
     "metadata": {},
     "output_type": "execute_result"
    }
   ],
   "source": [
    "1-stats.t.cdf(1.84, df = n-1)\n",
    "\n",
    "# Formally, \n",
    "\n",
    "#H0: new avg steps/user = old avg steps/user (8000)\n",
    "#HA:new avg steps/user > old avg steps/user\n",
    "\n",
    "# Since p value < aplha, thus we reject the null hypothesis and accept the alternate hyp\n",
    "# This avg steps/user have increased more than 8000."
   ]
  },
  {
   "cell_type": "code",
   "execution_count": null,
   "id": "efeffa8f",
   "metadata": {},
   "outputs": [],
   "source": []
  }
 ],
 "metadata": {
  "kernelspec": {
   "display_name": "Python 3 (ipykernel)",
   "language": "python",
   "name": "python3"
  },
  "language_info": {
   "codemirror_mode": {
    "name": "ipython",
    "version": 3
   },
   "file_extension": ".py",
   "mimetype": "text/x-python",
   "name": "python",
   "nbconvert_exporter": "python",
   "pygments_lexer": "ipython3",
   "version": "3.9.7"
  }
 },
 "nbformat": 4,
 "nbformat_minor": 5
}
