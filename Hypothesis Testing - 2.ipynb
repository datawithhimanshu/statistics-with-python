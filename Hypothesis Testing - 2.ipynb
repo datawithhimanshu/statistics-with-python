{
 "cells": [
  {
   "cell_type": "code",
   "execution_count": 1,
   "id": "1cbd83c5",
   "metadata": {},
   "outputs": [],
   "source": [
    "import numpy as np\n",
    "import pandas as pd\n",
    "\n",
    "from IPython.core.interactiveshell import InteractiveShell\n",
    "InteractiveShell.ast_node_interactivity = \"all\""
   ]
  },
  {
   "cell_type": "code",
   "execution_count": null,
   "id": "1d672cb1",
   "metadata": {},
   "outputs": [],
   "source": [
    "# Problem: A factory produces light bulbs that are advertised to last 1,200 hours on average. \n",
    "# with a known standard deviation of 80 hours. \n",
    "# A random sample of 50 light bulbs has a mean lifespan of 1,190 hours, \n",
    "# Test whether the average lifespan is less than 1,200 hours\n",
    "\n",
    "# alpha = 0.1"
   ]
  },
  {
   "cell_type": "code",
   "execution_count": 2,
   "id": "2d601104",
   "metadata": {},
   "outputs": [
    {
     "data": {
      "text/plain": [
       "-0.8838834764831844"
      ]
     },
     "execution_count": 2,
     "metadata": {},
     "output_type": "execute_result"
    }
   ],
   "source": [
    "# Sample information:\n",
    "x = 1190\n",
    "n = 50\n",
    "\n",
    "# Pop information\n",
    "u = 1200\n",
    "sigma = 80\n",
    "\n",
    "se = sigma/np.sqrt(n)\n",
    "\n",
    "(x-u)/se"
   ]
  },
  {
   "cell_type": "code",
   "execution_count": 6,
   "id": "1881b0d7",
   "metadata": {},
   "outputs": [
    {
     "data": {
      "text/plain": [
       "-1.9599639845400545"
      ]
     },
     "execution_count": 6,
     "metadata": {},
     "output_type": "execute_result"
    }
   ],
   "source": [
    "# calculate the plot number\n",
    "from scipy import stats\n",
    "stats.norm.ppf(0.025)"
   ]
  },
  {
   "cell_type": "code",
   "execution_count": 5,
   "id": "4c15371c",
   "metadata": {},
   "outputs": [
    {
     "data": {
      "text/plain": [
       "(-1.6448536269514729, 1.6448536269514729)"
      ]
     },
     "execution_count": 5,
     "metadata": {},
     "output_type": "execute_result"
    }
   ],
   "source": [
    "# calculate the plot number\n",
    "from scipy import stats\n",
    "stats.norm.ppf(0.05), -1*stats.norm.ppf(0.05)"
   ]
  },
  {
   "cell_type": "code",
   "execution_count": null,
   "id": "244d334b",
   "metadata": {},
   "outputs": [],
   "source": [
    "# Formally, \n",
    "\n",
    "# H0: Sample mean of the bulbs = Actual mean of the bulbs\n",
    "\n",
    "# HA: Sample mean of the bulbs = Actual mean of the bulbs\n",
    "\n",
    "# Accept the null hypothesis"
   ]
  },
  {
   "cell_type": "code",
   "execution_count": 9,
   "id": "c90fc20a",
   "metadata": {},
   "outputs": [
    {
     "data": {
      "text/plain": [
       "1.0652472825826158"
      ]
     },
     "execution_count": 9,
     "metadata": {},
     "output_type": "execute_result"
    },
    {
     "data": {
      "text/plain": [
       "(-2.1700903775845606, 2.1700903775845606)"
      ]
     },
     "execution_count": 9,
     "metadata": {},
     "output_type": "execute_result"
    }
   ],
   "source": [
    "# A fintech company runs a personal loan campaign via email to a randomly selected sample of 1,000 customers. \n",
    "# Out of these, 68 customers applied for a loan. The company's historical application rate from email campaigns is 6%.\n",
    "\n",
    "# The marketing head claims that the new email design led to a higher response rate.\n",
    "\n",
    "# As a data scientist, perform Z-test for proportions at a 3% significance level to validate this claim.\n",
    "\n",
    "\n",
    "\n",
    "# Sample information:\n",
    "x = 68/1000\n",
    "n = 1000\n",
    "\n",
    "# pop info\n",
    "u = 0.06\n",
    "sigma = np.sqrt(u*(1-u))\n",
    "\n",
    "se = sigma/np.sqrt(n)\n",
    "\n",
    "# zscore-\n",
    "(x-u)/se\n",
    "\n",
    "\n",
    "stats.norm.ppf(0.015), -1*stats.norm.ppf(0.015)"
   ]
  },
  {
   "cell_type": "code",
   "execution_count": null,
   "id": "6e692078",
   "metadata": {},
   "outputs": [],
   "source": [
    "# H0: Sample's response rate = Old response rate\n",
    "# HA:Sample's response rate != Old response rate\n",
    "\n",
    "# since my z score lies within the acceptable range --> We accept the null hypothesis \n",
    "# Sample's rate = old reponse i.e no change in repsonse"
   ]
  },
  {
   "cell_type": "code",
   "execution_count": null,
   "id": "fe1f1a43",
   "metadata": {},
   "outputs": [],
   "source": [
    "## One tailed hypothesis tests"
   ]
  },
  {
   "cell_type": "code",
   "execution_count": 4,
   "id": "d9836e27",
   "metadata": {},
   "outputs": [
    {
     "data": {
      "text/plain": [
       "1.8698939800169134"
      ]
     },
     "execution_count": 4,
     "metadata": {},
     "output_type": "execute_result"
    },
    {
     "data": {
      "text/plain": [
       "0.030749270977733723"
      ]
     },
     "execution_count": 4,
     "metadata": {},
     "output_type": "execute_result"
    }
   ],
   "source": [
    "# An NBFC offers a feature where users can link their salaried bank accounts for auto-debit of EMIs. \n",
    "# Historically, only 22% of customers opted for this feature voluntarily.\n",
    "\n",
    "# After integrating with a new UPI-based mandate flow inside their mobile app (launched in April 2025), \n",
    "# the ops team wants to test if more customers are now opting in at the time of loan disbursal.\n",
    "\n",
    "# In the first month of rollout, 360 out of 1,500 new customers opted in.\n",
    "\n",
    "# CHeck at 6% significance level if the opt in rate has increased\n",
    "\n",
    "\n",
    "\n",
    "# Sample info:\n",
    "x = 360/1500\n",
    "n = 1500\n",
    "\n",
    "# Pop\n",
    "u = 0.22\n",
    "sigma = np.sqrt(u*(1-u))\n",
    "\n",
    "se = sigma/np.sqrt(n)\n",
    "# z score\n",
    "z = (x-u)/se\n",
    "z\n",
    "from scipy import stats\n",
    "1-stats.norm.cdf(z)"
   ]
  },
  {
   "cell_type": "code",
   "execution_count": 12,
   "id": "b5754345",
   "metadata": {},
   "outputs": [
    {
     "data": {
      "text/plain": [
       "1.5547735945968535"
      ]
     },
     "execution_count": 12,
     "metadata": {},
     "output_type": "execute_result"
    }
   ],
   "source": [
    "stats.norm.ppf(0.94)"
   ]
  },
  {
   "cell_type": "code",
   "execution_count": 13,
   "id": "6b4c7f8d",
   "metadata": {},
   "outputs": [],
   "source": [
    "# H0: New sample's opt in = old sample's opt in rate\n",
    "# HA: New sample's opt in > old sample's opt in rate\n",
    "\n",
    "# z score = 1.86\n",
    "# 1.55\n",
    "\n",
    "# Hence we reject the null hypothesis and accept the alternate hypothesis\n",
    "# HA: New sample's opt in > old sample's opt in rate"
   ]
  },
  {
   "cell_type": "code",
   "execution_count": 6,
   "id": "e068f555",
   "metadata": {},
   "outputs": [
    {
     "data": {
      "text/plain": [
       "-1.6443843832875582"
      ]
     },
     "execution_count": 6,
     "metadata": {},
     "output_type": "execute_result"
    },
    {
     "data": {
      "text/plain": [
       "0.05004841442561598"
      ]
     },
     "execution_count": 6,
     "metadata": {},
     "output_type": "execute_result"
    }
   ],
   "source": [
    "# India’s new indigenous missile, Agni Prime, is said to have improved targeting stability. \n",
    "# The defense ministry reports that the miss distance (how far the missile lands from the target) \n",
    "# for older versions averaged 30 meters with a standard deviation of 5 meters.\n",
    "\n",
    "# After several controlled field tests of the new Agni Prime, a sample of 40 missile launches \n",
    "# shows an average miss distance of 28.7 meters.\n",
    "\n",
    "# At a 4% significance level, test whether the new missile has improved accuracy — i.e., \n",
    "# the average miss distance is less than 30 meters.\n",
    "\n",
    "\n",
    "# Sample info:\n",
    "x = 28.7\n",
    "n = 40\n",
    "\n",
    "# pop info\n",
    "u = 30\n",
    "sigma = 5\n",
    "\n",
    "se = sigma/np.sqrt(n)\n",
    "\n",
    "z = (x-u)/se\n",
    "z\n",
    "stats.norm.cdf(z)"
   ]
  },
  {
   "cell_type": "code",
   "execution_count": 16,
   "id": "64e65a08",
   "metadata": {},
   "outputs": [
    {
     "data": {
      "text/plain": [
       "-1.75068607125217"
      ]
     },
     "execution_count": 16,
     "metadata": {},
     "output_type": "execute_result"
    }
   ],
   "source": [
    "stats.norm.ppf(0.04)"
   ]
  },
  {
   "cell_type": "code",
   "execution_count": null,
   "id": "cb87f192",
   "metadata": {},
   "outputs": [],
   "source": [
    "# Formally, \n",
    "# H0: New distance = Old distance\n",
    "# HA: New Distance < old distance\n",
    "\n",
    "# z score = -1.6443843832875582\n",
    "\n",
    "# Accept the null hypothesis - so there is no imporvement.\n",
    "\n"
   ]
  },
  {
   "cell_type": "markdown",
   "id": "847a3abe",
   "metadata": {},
   "source": [
    "## T test"
   ]
  },
  {
   "cell_type": "code",
   "execution_count": 17,
   "id": "15b09ee0",
   "metadata": {},
   "outputs": [
    {
     "data": {
      "text/plain": [
       "<Figure size 720x432 with 0 Axes>"
      ]
     },
     "execution_count": 17,
     "metadata": {},
     "output_type": "execute_result"
    },
    {
     "data": {
      "text/plain": [
       "[<matplotlib.lines.Line2D at 0x1ead4a7ad60>]"
      ]
     },
     "execution_count": 17,
     "metadata": {},
     "output_type": "execute_result"
    },
    {
     "data": {
      "text/plain": [
       "[<matplotlib.lines.Line2D at 0x1ead4a7ae20>]"
      ]
     },
     "execution_count": 17,
     "metadata": {},
     "output_type": "execute_result"
    },
    {
     "data": {
      "text/plain": [
       "[<matplotlib.lines.Line2D at 0x1ead6a983d0>]"
      ]
     },
     "execution_count": 17,
     "metadata": {},
     "output_type": "execute_result"
    },
    {
     "data": {
      "text/plain": [
       "[<matplotlib.lines.Line2D at 0x1ead6a98760>]"
      ]
     },
     "execution_count": 17,
     "metadata": {},
     "output_type": "execute_result"
    },
    {
     "data": {
      "text/plain": [
       "[<matplotlib.lines.Line2D at 0x1ead6a98a30>]"
      ]
     },
     "execution_count": 17,
     "metadata": {},
     "output_type": "execute_result"
    },
    {
     "data": {
      "text/plain": [
       "[<matplotlib.lines.Line2D at 0x1ead6a98eb0>]"
      ]
     },
     "execution_count": 17,
     "metadata": {},
     "output_type": "execute_result"
    },
    {
     "data": {
      "text/plain": [
       "Text(0.5, 1.0, 'Effect of Sample Size on t-Distribution')"
      ]
     },
     "execution_count": 17,
     "metadata": {},
     "output_type": "execute_result"
    },
    {
     "data": {
      "text/plain": [
       "Text(0.5, 0, 'Value')"
      ]
     },
     "execution_count": 17,
     "metadata": {},
     "output_type": "execute_result"
    },
    {
     "data": {
      "text/plain": [
       "Text(0, 0.5, 'Probability Density')"
      ]
     },
     "execution_count": 17,
     "metadata": {},
     "output_type": "execute_result"
    },
    {
     "data": {
      "text/plain": [
       "<matplotlib.legend.Legend at 0x1ead6a99220>"
      ]
     },
     "execution_count": 17,
     "metadata": {},
     "output_type": "execute_result"
    },
    {
     "data": {
      "image/png": "[encoded data removed]",
      "text/plain": [
       "<Figure size 720x432 with 1 Axes>"
      ]
     },
     "metadata": {
      "needs_background": "light"
     },
     "output_type": "display_data"
    }
   ],
   "source": [
    "import numpy as np\n",
    "import matplotlib.pyplot as plt\n",
    "import scipy.stats as stats\n",
    "\n",
    "# Define the range for plotting\n",
    "x = np.linspace(-4, 4, 500)\n",
    "\n",
    "# Define sample sizes and corresponding degrees of freedom (df = n - 1)\n",
    "sample_sizes = [2, 5, 10, 30, 100]\n",
    "dfs = [n - 1 for n in sample_sizes]\n",
    "\n",
    "# Plot the t-distributions with different sample sizes\n",
    "plt.figure(figsize=(10, 6))\n",
    "\n",
    "# Plot the t-distributions\n",
    "for n, df in zip(sample_sizes, dfs):\n",
    "    t_pdf = stats.t.pdf(x, df)\n",
    "    plt.plot(x, t_pdf, label=f\"Sample Size = {n}, df = {df}\")\n",
    "\n",
    "# Normal distribution for comparison\n",
    "normal_pdf = stats.norm.pdf(x)\n",
    "plt.plot(x, normal_pdf, label='Normal Distribution', linewidth=2, color='black')\n",
    "\n",
    "# Add labels, legend, and grid\n",
    "plt.title(\"Effect of Sample Size on t-Distribution\", fontsize=14)\n",
    "plt.xlabel(\"Value\", fontsize=12)\n",
    "plt.ylabel(\"Probability Density\", fontsize=12)\n",
    "plt.legend(fontsize=10)\n",
    "plt.grid(alpha=0.3)\n",
    "\n",
    "# Show the plot\n",
    "plt.show()\n"
   ]
  },
  {
   "cell_type": "code",
   "execution_count": 23,
   "id": "476e1892",
   "metadata": {},
   "outputs": [
    {
     "data": {
      "text/plain": [
       "0.03921812012384987"
      ]
     },
     "execution_count": 23,
     "metadata": {},
     "output_type": "execute_result"
    },
    {
     "data": {
      "text/plain": [
       "0.032039126501788466"
      ]
     },
     "execution_count": 23,
     "metadata": {},
     "output_type": "execute_result"
    },
    {
     "data": {
      "text/plain": [
       "0.029833897759795672"
      ]
     },
     "execution_count": 23,
     "metadata": {},
     "output_type": "execute_result"
    },
    {
     "data": {
      "text/plain": [
       "0.028494112016003197"
      ]
     },
     "execution_count": 23,
     "metadata": {},
     "output_type": "execute_result"
    },
    {
     "data": {
      "text/plain": [
       "0.02779043702757821"
      ]
     },
     "execution_count": 23,
     "metadata": {},
     "output_type": "execute_result"
    },
    {
     "data": {
      "text/plain": [
       "0.026389450683114827"
      ]
     },
     "execution_count": 23,
     "metadata": {},
     "output_type": "execute_result"
    }
   ],
   "source": [
    "# In reality information about population standard deviation will not \n",
    "# be available and the sample size will be relatilvely smaller\n",
    "\n",
    "\n",
    "\n",
    "stats.t.cdf(-1.96, df = 10)\n",
    "stats.t.cdf(-1.96, df = 20)\n",
    "stats.t.cdf(-1.96, df = 29)\n",
    "stats.t.cdf(-1.96, df = 40)\n",
    "stats.t.cdf(-1.96, df = 50)\n",
    "stats.t.cdf(-1.96, df = 100)"
   ]
  },
  {
   "cell_type": "code",
   "execution_count": 25,
   "id": "c9093de6",
   "metadata": {},
   "outputs": [
    {
     "data": {
      "text/plain": [
       "-0.3468729675471631"
      ]
     },
     "execution_count": 25,
     "metadata": {},
     "output_type": "execute_result"
    },
    {
     "data": {
      "text/plain": [
       "-1.7613101357748564"
      ]
     },
     "execution_count": 25,
     "metadata": {},
     "output_type": "execute_result"
    }
   ],
   "source": [
    "# A fintech company believes that customers using its app complete loan applications in less than 12 minutes on average. \n",
    "# A UX researcher takes a random sample of 15 customers and records the following times (in minutes):\n",
    "\n",
    "lst = [11.2, 13.1, 10.8, 12.5, 11.7, 10.3, 11.0, 12.1, 13.0, 11.8, 10.9, 12.3, 11.5, 10.6, 12.7]\n",
    "\n",
    "# At a 5% significance level, test whether the average time to complete an application is less than 12 minutes.\n",
    "\n",
    "\n",
    "# Sample \n",
    "x = np.mean(np.array(lst))\n",
    "n = len(lst)\n",
    "df = n-1\n",
    "# std of sample\n",
    "s = np.std(np.array(lst), ddof = df)\n",
    "\n",
    "\n",
    "# pop info\n",
    "u = 12\n",
    "\n",
    "se = s/np.sqrt(n)\n",
    "\n",
    "\n",
    "# t score \n",
    "(x-u)/se\n",
    "\n",
    "stats.t.ppf(0.05, df = df)"
   ]
  },
  {
   "cell_type": "code",
   "execution_count": null,
   "id": "9cdc47e3",
   "metadata": {},
   "outputs": [],
   "source": [
    "# H0: new average time to complete the application = old average to complete the application\n",
    "# HA: new average time to complete the application < old average to complete the application\n",
    "\n",
    "# t score = -0.35\n",
    "# Acceptable range - -1.76\n",
    "\n",
    "# Accept the null hypothesis - \n",
    "# H0: new average time to complete the application = old average to complete the application"
   ]
  },
  {
   "cell_type": "code",
   "execution_count": 26,
   "id": "4e0d590a",
   "metadata": {},
   "outputs": [
    {
     "data": {
      "text/plain": [
       "0.15865525393145707"
      ]
     },
     "execution_count": 26,
     "metadata": {},
     "output_type": "execute_result"
    }
   ],
   "source": [
    "stats.norm.cdf(-1)"
   ]
  },
  {
   "cell_type": "code",
   "execution_count": null,
   "id": "89b315ed",
   "metadata": {},
   "outputs": [],
   "source": []
  }
 ],
 "metadata": {
  "kernelspec": {
   "display_name": "Python 3 (ipykernel)",
   "language": "python",
   "name": "python3"
  },
  "language_info": {
   "codemirror_mode": {
    "name": "ipython",
    "version": 3
   },
   "file_extension": ".py",
   "mimetype": "text/x-python",
   "name": "python",
   "nbconvert_exporter": "python",
   "pygments_lexer": "ipython3",
   "version": "3.9.12"
  }
 },
 "nbformat": 4,
 "nbformat_minor": 5
}
